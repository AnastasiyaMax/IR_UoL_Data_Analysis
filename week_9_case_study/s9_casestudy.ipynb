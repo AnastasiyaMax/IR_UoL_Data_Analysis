{
  "nbformat": 4,
  "nbformat_minor": 0,
  "metadata": {
    "colab": {
      "provenance": []
    },
    "kernelspec": {
      "name": "python3",
      "display_name": "Python 3"
    },
    "language_info": {
      "name": "python"
    }
  },
  "cells": [
    {
      "cell_type": "markdown",
      "source": [
        "#**s9.Case-study. Chocolate**"
      ],
      "metadata": {
        "id": "E2jhy9eR8hoo"
      }
    },
    {
      "cell_type": "code",
      "source": [
        "import numpy as np    \n",
        "import pandas as pd \n",
        "\n",
        "import seaborn as sns\n",
        "import matplotlib.pyplot as plt\n",
        "\n",
        "plt.style.use('seaborn')"
      ],
      "metadata": {
        "id": "NNul5_Bq9aYJ"
      },
      "execution_count": null,
      "outputs": []
    },
    {
      "cell_type": "markdown",
      "source": [
        "## Dataset"
      ],
      "metadata": {
        "id": "XIyMMV_Tg2c0"
      }
    },
    {
      "cell_type": "markdown",
      "source": [
        "This database contains over 2,500 chocolate bar ratings from around the globe!"
      ],
      "metadata": {
        "id": "vj-kuwSJ89ea"
      }
    },
    {
      "cell_type": "markdown",
      "source": [
        "**id** - Id number of the review\n",
        "\n",
        "**manufacturer** - Name of the chocolate bar manufacturer\n",
        "\n",
        "**company_location** - Location of manufacturer\n",
        "\n",
        "**year_reviewed** - The year of review\n",
        "\n",
        "**bean_origin** - Country of origin of the cacao beans\n",
        "\n",
        "**bar_name** - Name of chocolate bar\n",
        "\n",
        "**cocoa_percent** - Cocoa content of the chocolate bar (%)\n",
        "\n",
        "**num_ingredients** - Number of ingredients in chocolate bar\n",
        "\n",
        "**ingredient** - Ingredients used\n",
        "\n",
        "**review**- Summary of most memorable characteristics of the chocolate bar\n",
        "\n",
        "**rating** - Rating of the chocolate bar\n"
      ],
      "metadata": {
        "id": "zLV61Nhw_OZb"
      }
    },
    {
      "cell_type": "code",
      "source": [
        "df=pd.read_csv('chocolate_bars.csv', on_bad_lines='skip', sep = ';')\n",
        "df.head()"
      ],
      "metadata": {
        "colab": {
          "base_uri": "https://localhost:8080/"
        },
        "id": "GRNA7PKMpobA",
        "outputId": "2a3e56e8-8892-40d1-84c9-2d911474827a"
      },
      "execution_count": null,
      "outputs": [
        {
          "output_type": "execute_result",
          "data": {
            "text/plain": [
              "     id manufacturer company_location  year_reviewed         bean_origin  \\\n",
              "0  2454         5150           U.S.A.           2019            Tanzania   \n",
              "1  2458         5150           U.S.A.           2019  Dominican Republic   \n",
              "2  2454         5150           U.S.A.           2019          Madagascar   \n",
              "3  2542         5150           U.S.A.           2021                Fiji   \n",
              "4  2546         5150           U.S.A.           2021           Venezuela   \n",
              "\n",
              "                 bar_name  cocoa_percent  num_ingredients ingredients  \\\n",
              "0   Kokoa Kamili, batch 1           76.0              3.0       B,S,C   \n",
              "1         Zorzal, batch 1           76.0              3.0       B,S,C   \n",
              "2  Bejofo Estate, batch 1           76.0              3.0       B,S,C   \n",
              "3   Matasawalevu, batch 1           68.0              3.0       B,S,C   \n",
              "4   Sur del Lago, batch 1           72.0              3.0       B,S,C   \n",
              "\n",
              "                              review  rating  \n",
              "0          rich cocoa, fatty, bready    3.25  \n",
              "1             cocoa, vegetal, savory    3.50  \n",
              "2       cocoa, blackberry, full body    3.75  \n",
              "3                chewy, off, rubbery    3.00  \n",
              "4  fatty, earthy, moss, nutty,chalky    3.00  "
            ],
            "text/html": [
              "\n",
              "  <div id=\"df-62a02cf2-5a35-4fd1-8ea8-233f12c15d3d\">\n",
              "    <div class=\"colab-df-container\">\n",
              "      <div>\n",
              "<style scoped>\n",
              "    .dataframe tbody tr th:only-of-type {\n",
              "        vertical-align: middle;\n",
              "    }\n",
              "\n",
              "    .dataframe tbody tr th {\n",
              "        vertical-align: top;\n",
              "    }\n",
              "\n",
              "    .dataframe thead th {\n",
              "        text-align: right;\n",
              "    }\n",
              "</style>\n",
              "<table border=\"1\" class=\"dataframe\">\n",
              "  <thead>\n",
              "    <tr style=\"text-align: right;\">\n",
              "      <th></th>\n",
              "      <th>id</th>\n",
              "      <th>manufacturer</th>\n",
              "      <th>company_location</th>\n",
              "      <th>year_reviewed</th>\n",
              "      <th>bean_origin</th>\n",
              "      <th>bar_name</th>\n",
              "      <th>cocoa_percent</th>\n",
              "      <th>num_ingredients</th>\n",
              "      <th>ingredients</th>\n",
              "      <th>review</th>\n",
              "      <th>rating</th>\n",
              "    </tr>\n",
              "  </thead>\n",
              "  <tbody>\n",
              "    <tr>\n",
              "      <th>0</th>\n",
              "      <td>2454</td>\n",
              "      <td>5150</td>\n",
              "      <td>U.S.A.</td>\n",
              "      <td>2019</td>\n",
              "      <td>Tanzania</td>\n",
              "      <td>Kokoa Kamili, batch 1</td>\n",
              "      <td>76.0</td>\n",
              "      <td>3.0</td>\n",
              "      <td>B,S,C</td>\n",
              "      <td>rich cocoa, fatty, bready</td>\n",
              "      <td>3.25</td>\n",
              "    </tr>\n",
              "    <tr>\n",
              "      <th>1</th>\n",
              "      <td>2458</td>\n",
              "      <td>5150</td>\n",
              "      <td>U.S.A.</td>\n",
              "      <td>2019</td>\n",
              "      <td>Dominican Republic</td>\n",
              "      <td>Zorzal, batch 1</td>\n",
              "      <td>76.0</td>\n",
              "      <td>3.0</td>\n",
              "      <td>B,S,C</td>\n",
              "      <td>cocoa, vegetal, savory</td>\n",
              "      <td>3.50</td>\n",
              "    </tr>\n",
              "    <tr>\n",
              "      <th>2</th>\n",
              "      <td>2454</td>\n",
              "      <td>5150</td>\n",
              "      <td>U.S.A.</td>\n",
              "      <td>2019</td>\n",
              "      <td>Madagascar</td>\n",
              "      <td>Bejofo Estate, batch 1</td>\n",
              "      <td>76.0</td>\n",
              "      <td>3.0</td>\n",
              "      <td>B,S,C</td>\n",
              "      <td>cocoa, blackberry, full body</td>\n",
              "      <td>3.75</td>\n",
              "    </tr>\n",
              "    <tr>\n",
              "      <th>3</th>\n",
              "      <td>2542</td>\n",
              "      <td>5150</td>\n",
              "      <td>U.S.A.</td>\n",
              "      <td>2021</td>\n",
              "      <td>Fiji</td>\n",
              "      <td>Matasawalevu, batch 1</td>\n",
              "      <td>68.0</td>\n",
              "      <td>3.0</td>\n",
              "      <td>B,S,C</td>\n",
              "      <td>chewy, off, rubbery</td>\n",
              "      <td>3.00</td>\n",
              "    </tr>\n",
              "    <tr>\n",
              "      <th>4</th>\n",
              "      <td>2546</td>\n",
              "      <td>5150</td>\n",
              "      <td>U.S.A.</td>\n",
              "      <td>2021</td>\n",
              "      <td>Venezuela</td>\n",
              "      <td>Sur del Lago, batch 1</td>\n",
              "      <td>72.0</td>\n",
              "      <td>3.0</td>\n",
              "      <td>B,S,C</td>\n",
              "      <td>fatty, earthy, moss, nutty,chalky</td>\n",
              "      <td>3.00</td>\n",
              "    </tr>\n",
              "  </tbody>\n",
              "</table>\n",
              "</div>\n",
              "      <button class=\"colab-df-convert\" onclick=\"convertToInteractive('df-62a02cf2-5a35-4fd1-8ea8-233f12c15d3d')\"\n",
              "              title=\"Convert this dataframe to an interactive table.\"\n",
              "              style=\"display:none;\">\n",
              "        \n",
              "  <svg xmlns=\"http://www.w3.org/2000/svg\" height=\"24px\"viewBox=\"0 0 24 24\"\n",
              "       width=\"24px\">\n",
              "    <path d=\"M0 0h24v24H0V0z\" fill=\"none\"/>\n",
              "    <path d=\"M18.56 5.44l.94 2.06.94-2.06 2.06-.94-2.06-.94-.94-2.06-.94 2.06-2.06.94zm-11 1L8.5 8.5l.94-2.06 2.06-.94-2.06-.94L8.5 2.5l-.94 2.06-2.06.94zm10 10l.94 2.06.94-2.06 2.06-.94-2.06-.94-.94-2.06-.94 2.06-2.06.94z\"/><path d=\"M17.41 7.96l-1.37-1.37c-.4-.4-.92-.59-1.43-.59-.52 0-1.04.2-1.43.59L10.3 9.45l-7.72 7.72c-.78.78-.78 2.05 0 2.83L4 21.41c.39.39.9.59 1.41.59.51 0 1.02-.2 1.41-.59l7.78-7.78 2.81-2.81c.8-.78.8-2.07 0-2.86zM5.41 20L4 18.59l7.72-7.72 1.47 1.35L5.41 20z\"/>\n",
              "  </svg>\n",
              "      </button>\n",
              "      \n",
              "  <style>\n",
              "    .colab-df-container {\n",
              "      display:flex;\n",
              "      flex-wrap:wrap;\n",
              "      gap: 12px;\n",
              "    }\n",
              "\n",
              "    .colab-df-convert {\n",
              "      background-color: #E8F0FE;\n",
              "      border: none;\n",
              "      border-radius: 50%;\n",
              "      cursor: pointer;\n",
              "      display: none;\n",
              "      fill: #1967D2;\n",
              "      height: 32px;\n",
              "      padding: 0 0 0 0;\n",
              "      width: 32px;\n",
              "    }\n",
              "\n",
              "    .colab-df-convert:hover {\n",
              "      background-color: #E2EBFA;\n",
              "      box-shadow: 0px 1px 2px rgba(60, 64, 67, 0.3), 0px 1px 3px 1px rgba(60, 64, 67, 0.15);\n",
              "      fill: #174EA6;\n",
              "    }\n",
              "\n",
              "    [theme=dark] .colab-df-convert {\n",
              "      background-color: #3B4455;\n",
              "      fill: #D2E3FC;\n",
              "    }\n",
              "\n",
              "    [theme=dark] .colab-df-convert:hover {\n",
              "      background-color: #434B5C;\n",
              "      box-shadow: 0px 1px 3px 1px rgba(0, 0, 0, 0.15);\n",
              "      filter: drop-shadow(0px 1px 2px rgba(0, 0, 0, 0.3));\n",
              "      fill: #FFFFFF;\n",
              "    }\n",
              "  </style>\n",
              "\n",
              "      <script>\n",
              "        const buttonEl =\n",
              "          document.querySelector('#df-62a02cf2-5a35-4fd1-8ea8-233f12c15d3d button.colab-df-convert');\n",
              "        buttonEl.style.display =\n",
              "          google.colab.kernel.accessAllowed ? 'block' : 'none';\n",
              "\n",
              "        async function convertToInteractive(key) {\n",
              "          const element = document.querySelector('#df-62a02cf2-5a35-4fd1-8ea8-233f12c15d3d');\n",
              "          const dataTable =\n",
              "            await google.colab.kernel.invokeFunction('convertToInteractive',\n",
              "                                                     [key], {});\n",
              "          if (!dataTable) return;\n",
              "\n",
              "          const docLinkHtml = 'Like what you see? Visit the ' +\n",
              "            '<a target=\"_blank\" href=https://colab.research.google.com/notebooks/data_table.ipynb>data table notebook</a>'\n",
              "            + ' to learn more about interactive tables.';\n",
              "          element.innerHTML = '';\n",
              "          dataTable['output_type'] = 'display_data';\n",
              "          await google.colab.output.renderOutput(dataTable, element);\n",
              "          const docLink = document.createElement('div');\n",
              "          docLink.innerHTML = docLinkHtml;\n",
              "          element.appendChild(docLink);\n",
              "        }\n",
              "      </script>\n",
              "    </div>\n",
              "  </div>\n",
              "  "
            ]
          },
          "metadata": {},
          "execution_count": 12
        }
      ]
    },
    {
      "cell_type": "markdown",
      "source": [
        "## Preparation of the data"
      ],
      "metadata": {
        "id": "tVlJf-V7CSic"
      }
    },
    {
      "cell_type": "markdown",
      "source": [
        "Get basic information about dataset (use method `.info()`):"
      ],
      "metadata": {
        "id": "j37AYvjPCfW9"
      }
    },
    {
      "cell_type": "code",
      "source": [],
      "metadata": {
        "id": "3270SGbZCXis"
      },
      "execution_count": null,
      "outputs": []
    },
    {
      "cell_type": "markdown",
      "source": [
        "Amount of NaNs in each columns by the methods `.isna()` and `.sum()`:"
      ],
      "metadata": {
        "id": "II_FwLXJCvwe"
      }
    },
    {
      "cell_type": "code",
      "source": [],
      "metadata": {
        "id": "8JRH9BSHCuk-"
      },
      "execution_count": null,
      "outputs": []
    },
    {
      "cell_type": "markdown",
      "source": [
        "Since there are not very many NaNs, you can simply delete all the lines in which they are (use method `.dropna()`):"
      ],
      "metadata": {
        "id": "OBQQi84srunz"
      }
    },
    {
      "cell_type": "code",
      "source": [],
      "metadata": {
        "id": "ut1TpUJVsAeR"
      },
      "execution_count": null,
      "outputs": []
    },
    {
      "cell_type": "markdown",
      "source": [
        "## Data exploration"
      ],
      "metadata": {
        "id": "ieGQlyq1Brn0"
      }
    },
    {
      "cell_type": "code",
      "source": [
        "df.columns"
      ],
      "metadata": {
        "id": "rYiFndSAu25s"
      },
      "execution_count": null,
      "outputs": []
    },
    {
      "cell_type": "markdown",
      "source": [
        "### Continous numeric columns"
      ],
      "metadata": {
        "id": "_PM_pBM81iFD"
      }
    },
    {
      "cell_type": "markdown",
      "source": [
        "Using subplot, plot a histogram and boxplot over all **continous numeric columns** and add all measures of central tendency in each plot:\n",
        "\n",
        "- first row - histograms\n",
        "- second row - horizontal boxpots\n",
        "- one by one "
      ],
      "metadata": {
        "id": "XvdO7CSfQxPd"
      }
    },
    {
      "cell_type": "code",
      "source": [
        "fig,ax = plt.subplots(2, 2, figsize = (16, 9))\n",
        "\n",
        "ax[0][0].#title 1\n",
        "ax[0][0].#hist 1\n",
        "ax[0][0].#mean line 1\n",
        "ax[0][0].#median line 1\n",
        "ax[0][0].#mode line 1\n",
        "ax[0][0].#legend 1\n",
        "\n",
        "ax[1][0].#horizonatal boxplot 1\n",
        "\n",
        "ax[0][1].#title 2\n",
        "ax[0][1].#hist 2\n",
        "ax[0][1].#mean line 2\n",
        "ax[0][1].#median line 2\n",
        "ax[0][1].#mode line 2\n",
        "ax[0][1].#legend 2.   *loc=2*\n",
        "\n",
        "ax[1][1].#horizonatal boxplot 2"
      ],
      "metadata": {
        "id": "4-aPcHSJB_Rn"
      },
      "execution_count": null,
      "outputs": []
    },
    {
      "cell_type": "markdown",
      "source": [
        "Write your conclusions about the distribution of data (for each column):\n",
        "- whether the distribution is normal\n",
        "- are there outliers in the data"
      ],
      "metadata": {
        "id": "7YEpCfAL3NQK"
      }
    },
    {
      "cell_type": "markdown",
      "source": [
        "*your conclusions here*"
      ],
      "metadata": {
        "id": "vfFeW4FM3R5j"
      }
    },
    {
      "cell_type": "markdown",
      "source": [
        "Output basic descriptive statistics only for **continous numeric columns** by the method `.describe()`:"
      ],
      "metadata": {
        "id": "lML_ASFRz-RM"
      }
    },
    {
      "cell_type": "code",
      "source": [],
      "metadata": {
        "id": "_5PkiVBl0a_c"
      },
      "execution_count": null,
      "outputs": []
    },
    {
      "cell_type": "markdown",
      "source": [
        "Interpret each of them:"
      ],
      "metadata": {
        "id": "5PVpAAD41JDG"
      }
    },
    {
      "cell_type": "markdown",
      "source": [
        "**NAME OF THE COLUMN**\n",
        "\n",
        "interpret count\t\n",
        "\n",
        "interpret mean\t\n",
        "\n",
        "interpret std\n",
        "\n",
        "interpret min\n",
        "\n",
        "interpret 25%\n",
        "\n",
        "interpret 50%\n",
        "\n",
        "interpret 75%\n",
        "\n",
        "interpret max\n",
        "\n",
        "**NAME OF THE COLUMN**\n",
        "\n",
        "interpret count\t\n",
        "\n",
        "interpret mean\t\n",
        "\n",
        "interpret std\n",
        "\n",
        "interpret min\n",
        "\n",
        "interpret 25%\n",
        "\n",
        "interpret 50%\n",
        "\n",
        "interpret 75%\n",
        "\n",
        "interpret max"
      ],
      "metadata": {
        "id": "EETrVbyS2IrH"
      }
    },
    {
      "cell_type": "markdown",
      "source": [
        "### Discrete numeric columns"
      ],
      "metadata": {
        "id": "sz4gVXyc3cdX"
      }
    },
    {
      "cell_type": "markdown",
      "source": [
        "Using subplot, plot a barplot over all **discrete numeric columns** (Y-axis frequency of each value):"
      ],
      "metadata": {
        "id": "3Z86dscb3neF"
      }
    },
    {
      "cell_type": "code",
      "source": [
        "#frequency table 1\n",
        "#frequency table 2\n",
        "\n",
        "fig,ax = plt.subplots(1, 2, figsize = (16, 9))\n",
        "\n",
        "\n",
        "for i in range(2):\n",
        "  #change the name of the Y-axis\n",
        "\n",
        "\n",
        "ax[0].#title 1\n",
        "ax[0].#bar plot 1\n",
        "\n",
        "ax[1].#title 2\n",
        "ax[1].#bar plot 2"
      ],
      "metadata": {
        "id": "4Wv5Cn9wSVGs"
      },
      "execution_count": null,
      "outputs": []
    },
    {
      "cell_type": "markdown",
      "source": [
        "Create dataframe with mode, min, max, for all **discrete numeric columns** and interpret them:"
      ],
      "metadata": {
        "id": "vsboogAg7dDJ"
      }
    },
    {
      "cell_type": "code",
      "source": [
        "# create an empty dataframe\n",
        "# column with names of measures of central tendency \n",
        "# column with values of measures of central tendency for the first variable\n",
        "# column with values of measures of central tendency for the second variable\n",
        "\n",
        "#return the resulting dataframe"
      ],
      "metadata": {
        "id": "SpMXuxCF75CD"
      },
      "execution_count": null,
      "outputs": []
    },
    {
      "cell_type": "markdown",
      "source": [
        "Interpret mean, min, max:"
      ],
      "metadata": {
        "id": "JVM2RqZc75P3"
      }
    },
    {
      "cell_type": "markdown",
      "source": [
        "**NAME OF THE COLUMN**\n",
        "\n",
        "interpret mode\n",
        "\n",
        "interpret min\n",
        "\n",
        "interpret max\n",
        "\n",
        "**NAME OF THE COLUMN**\n",
        "\n",
        "interpret mode\n",
        "\n",
        "interpret min\n",
        "\n",
        "interpret max"
      ],
      "metadata": {
        "id": "To6IpYtd75P4"
      }
    },
    {
      "cell_type": "markdown",
      "source": [
        "### Categorical columns"
      ],
      "metadata": {
        "id": "k4lwNtXN9qeA"
      }
    },
    {
      "cell_type": "code",
      "source": [
        "df.columns"
      ],
      "metadata": {
        "id": "wijAKaJ--dG4"
      },
      "execution_count": null,
      "outputs": []
    },
    {
      "cell_type": "markdown",
      "source": [
        "Using subplot, plot a barplot over all **categorical columns** (Y-axis - frequency):"
      ],
      "metadata": {
        "id": "37cb5nEi-Be-"
      }
    },
    {
      "cell_type": "code",
      "source": [
        "#top 10 frequency table 1\n",
        "#top 10 frequency table 2\n",
        "#top 10 frequency table 3\n",
        "#top 10 frequency table 4\n",
        "#top 10 frequency table 5\n",
        "#top 10 frequency table 6\n",
        "\n",
        "\n",
        "fig, ax = plt.subplots(2, 3, figsize = (50,16))\n",
        "\n",
        "ax[0][0].#title 1\n",
        "ax[0][0].#bar 1\n",
        "\n",
        "ax[0][1].#title 2\n",
        "ax[0][1].#bar 2\n",
        "\n",
        "ax[0][2].#title 3\n",
        "ax[0][2].#bar 3\n",
        "\n",
        "ax[1][0].#title 4\n",
        "ax[1][0].#bar 4\n",
        "\n",
        "ax[1][1].#title 5\n",
        "ax[1][1].#bar 5\n",
        "\n",
        "ax[1][2].#title 6\n",
        "ax[1][2].#bar 6"
      ],
      "metadata": {
        "id": "CaIepA895uvE"
      },
      "execution_count": null,
      "outputs": []
    },
    {
      "cell_type": "markdown",
      "source": [
        "Output basic descriptive statistics only for **categorical columns** by the method `.describe(include = 'object')`:"
      ],
      "metadata": {
        "id": "Sdn0DLdEG1gZ"
      }
    },
    {
      "cell_type": "code",
      "source": [],
      "metadata": {
        "id": "yFZUq0hxAysI"
      },
      "execution_count": null,
      "outputs": []
    },
    {
      "cell_type": "markdown",
      "source": [
        "Iterpret each characteristics"
      ],
      "metadata": {
        "id": "vrmsMSiBHM6t"
      }
    },
    {
      "cell_type": "markdown",
      "source": [
        "**NAME OF THE COLUMN**\n",
        "\n",
        "interpret all here\n"
      ],
      "metadata": {
        "id": "ine6CW-_HWa2"
      }
    },
    {
      "cell_type": "code",
      "source": [],
      "metadata": {
        "id": "KZu3h31aHIu4"
      },
      "execution_count": null,
      "outputs": []
    },
    {
      "cell_type": "markdown",
      "source": [
        "## Formulation of research hypotheses"
      ],
      "metadata": {
        "id": "4lDIbWd6ICS6"
      }
    },
    {
      "cell_type": "markdown",
      "source": [
        "We have explored the data and now we can form hypotheses based on the data, which we will test"
      ],
      "metadata": {
        "id": "BtSZS6SMISwi"
      }
    },
    {
      "cell_type": "markdown",
      "source": [
        "For example:\n",
        "\n",
        "1. There is a relationship between chocolate bar manufacturer and chocolate rating\n",
        "2. There is a relationship between the country of origin of the chocolate bar and its rating\n",
        "3. There is a relationship between Country of origin of the cacao beans and chocolate rating\n",
        "4. There is a relationship between Cocoa content of the chocolate bar (%) and chocolate rating\n",
        "\n",
        "...\n",
        "\n",
        "and so on"
      ],
      "metadata": {
        "id": "fD2BYDncIh4z"
      }
    },
    {
      "cell_type": "markdown",
      "source": [
        "Let's check the 1 and 4!"
      ],
      "metadata": {
        "id": "xLWrKniIKTJA"
      }
    },
    {
      "cell_type": "markdown",
      "source": [
        "## H1: Relationship between Cocoa content of the chocolate bar (%) and chocolate rating"
      ],
      "metadata": {
        "id": "Ws-IEqLhxucH"
      }
    },
    {
      "cell_type": "markdown",
      "source": [
        "### Preparing continuous data"
      ],
      "metadata": {
        "id": "ftOTzYCuqSfq"
      }
    },
    {
      "cell_type": "markdown",
      "source": [
        "We have data for different countries, factories, etc. But for statistical analysis methods, it is important that the data be homogeneous. Therefore, let's filter the dataframe and leave the cacao beans that were shipped from Venezuela"
      ],
      "metadata": {
        "id": "AnFSLlmWwdLC"
      }
    },
    {
      "cell_type": "code",
      "source": [],
      "metadata": {
        "id": "mQprS0zRwpm2"
      },
      "execution_count": null,
      "outputs": []
    },
    {
      "cell_type": "markdown",
      "source": [
        "Based on the filtered data, we calculate the average value of Cocoa content of the chocolate bar (%) and Rating of the chocolate bar for each manufacturer"
      ],
      "metadata": {
        "id": "kD-szigrwz6D"
      }
    },
    {
      "cell_type": "code",
      "source": [],
      "metadata": {
        "id": "FxQtMhE1xRlO"
      },
      "execution_count": null,
      "outputs": []
    },
    {
      "cell_type": "markdown",
      "source": [
        "#### cocoa_percent"
      ],
      "metadata": {
        "id": "9zDxcsgFrsbw"
      }
    },
    {
      "cell_type": "markdown",
      "source": [
        "Let's look to the histogram and boxplot after the filtering and grouping"
      ],
      "metadata": {
        "id": "FfEechh4yBXi"
      }
    },
    {
      "cell_type": "code",
      "source": [
        "fig,ax = plt.subplots(2, 1, figsize = (16, 9))\n",
        "\n",
        "ax[0][0].#title\n",
        "ax[0][0].#hist\n",
        "ax[0][0].#mean line\n",
        "ax[0][0].#median line\n",
        "ax[0][0].#mode line\n",
        "ax[0][0].#legend\n",
        "\n",
        "ax[1][0].#horizonatal boxplot"
      ],
      "metadata": {
        "id": "X9y1JwdjTOjR"
      },
      "execution_count": null,
      "outputs": []
    },
    {
      "cell_type": "markdown",
      "source": [
        "Are there outliers in the diagram?"
      ],
      "metadata": {
        "id": "E23ZZEpay-6m"
      }
    },
    {
      "cell_type": "markdown",
      "source": [
        "*Your answer here*"
      ],
      "metadata": {
        "id": "I6SRdPqEzH18"
      }
    },
    {
      "cell_type": "markdown",
      "source": [
        "Clean up column from outliers by the 2*std method"
      ],
      "metadata": {
        "id": "RS2uHP8yr73f"
      }
    },
    {
      "cell_type": "markdown",
      "source": [
        "std:"
      ],
      "metadata": {
        "id": "fvp_TOg6sFsu"
      }
    },
    {
      "cell_type": "code",
      "source": [],
      "metadata": {
        "id": "CKxqKr21auhK"
      },
      "execution_count": null,
      "outputs": []
    },
    {
      "cell_type": "markdown",
      "source": [
        "average:"
      ],
      "metadata": {
        "id": "zb9AcL8hzU7d"
      }
    },
    {
      "cell_type": "code",
      "source": [],
      "metadata": {
        "id": "pPpV6IWyzXOR"
      },
      "execution_count": null,
      "outputs": []
    },
    {
      "cell_type": "markdown",
      "source": [
        "Lower bound:"
      ],
      "metadata": {
        "id": "ix26aH1dza-X"
      }
    },
    {
      "cell_type": "code",
      "source": [],
      "metadata": {
        "id": "foHMZatGzkyP"
      },
      "execution_count": null,
      "outputs": []
    },
    {
      "cell_type": "markdown",
      "source": [
        "Upper bound:"
      ],
      "metadata": {
        "id": "bATPS3UzzMyp"
      }
    },
    {
      "cell_type": "code",
      "source": [],
      "metadata": {
        "id": "22VGd5sCz4HT"
      },
      "execution_count": null,
      "outputs": []
    },
    {
      "cell_type": "markdown",
      "source": [
        "Filtering data by interval boundaries:"
      ],
      "metadata": {
        "id": "pClRymwq0TOI"
      }
    },
    {
      "cell_type": "code",
      "source": [],
      "metadata": {
        "id": "d4Y6_OaYz7jg"
      },
      "execution_count": null,
      "outputs": []
    },
    {
      "cell_type": "markdown",
      "source": [
        "Let's look to the histogram and boxplot after removing outlines"
      ],
      "metadata": {
        "id": "CK1qEV4S03ep"
      }
    },
    {
      "cell_type": "code",
      "source": [
        "fig,ax = plt.subplots(2, 1, figsize = (16, 9))\n",
        "\n",
        "ax[0][0].#title\n",
        "ax[0][0].#hist\n",
        "ax[0][0].#mean line\n",
        "ax[0][0].#median line\n",
        "ax[0][0].#mode line\n",
        "ax[0][0].#legend\n",
        "\n",
        "ax[1][0].#horizonatal boxplot"
      ],
      "metadata": {
        "colab": {
          "base_uri": "https://localhost:8080/"
        },
        "id": "dAfb8yj00veP",
        "outputId": "a0761f53-82a1-4184-d5b4-1f553446ff28"
      },
      "execution_count": null,
      "outputs": [
        {
          "output_type": "display_data",
          "data": {
            "text/plain": [
              "<Figure size 1152x648 with 2 Axes>"
            ],
            "image/png": "[encoded data removed]"
          },
          "metadata": {}
        }
      ]
    },
    {
      "cell_type": "markdown",
      "source": [
        "#### rating"
      ],
      "metadata": {
        "id": "LtRvKlbE1Ynt"
      }
    },
    {
      "cell_type": "markdown",
      "source": [
        "Let's look to the histogram and boxplot after the filtering and grouping"
      ],
      "metadata": {
        "id": "GSMtpwko1fbn"
      }
    },
    {
      "cell_type": "code",
      "source": [
        "fig,ax = plt.subplots(2, 1, figsize = (16, 9))\n",
        "\n",
        "ax[0][0].#title\n",
        "ax[0][0].#hist\n",
        "ax[0][0].#mean line\n",
        "ax[0][0].#median line\n",
        "ax[0][0].#mode line\n",
        "ax[0][0].#legend\n",
        "\n",
        "ax[1][0].#horizonatal boxplot"
      ],
      "metadata": {
        "colab": {
          "base_uri": "https://localhost:8080/"
        },
        "id": "-F6yQLY_1EoG",
        "outputId": "45c18cc2-9228-4596-9188-dee9af67ff53"
      },
      "execution_count": null,
      "outputs": [
        {
          "output_type": "display_data",
          "data": {
            "text/plain": [
              "<Figure size 1152x648 with 2 Axes>"
            ],
            "image/png": "[encoded data removed]"
          },
          "metadata": {}
        }
      ]
    },
    {
      "cell_type": "markdown",
      "source": [
        "Are there outliers in the diagram?"
      ],
      "metadata": {
        "id": "NGRigt1M11AF"
      }
    },
    {
      "cell_type": "markdown",
      "source": [
        "*Your answer here*"
      ],
      "metadata": {
        "id": "6EVUk_wq12Ey"
      }
    },
    {
      "cell_type": "markdown",
      "source": [
        "### Exploring the relationship"
      ],
      "metadata": {
        "id": "lg9BcfKy2fWD"
      }
    },
    {
      "cell_type": "markdown",
      "source": [
        "Plot a scatterplot between these two variables (on the prepared data)"
      ],
      "metadata": {
        "id": "FXxr5ZF62jG8"
      }
    },
    {
      "cell_type": "code",
      "source": [
        "#title\n",
        "#name of X-axis\n",
        "#name of Y-axis\n",
        "#scatterplot"
      ],
      "metadata": {
        "id": "4AIiZaE52g-o"
      },
      "execution_count": null,
      "outputs": []
    },
    {
      "cell_type": "markdown",
      "source": [
        "Plot a heatmap from a matrix of correlations between these variables"
      ],
      "metadata": {
        "id": "Z0Y5FHlh3rmK"
      }
    },
    {
      "cell_type": "code",
      "source": [],
      "metadata": {
        "id": "dTN5l9Gn3O8L"
      },
      "execution_count": null,
      "outputs": []
    },
    {
      "cell_type": "markdown",
      "source": [
        "Draw conclusions about the degree of linearity of the relationship between these parameters"
      ],
      "metadata": {
        "id": "axhBShl04ZFW"
      }
    },
    {
      "cell_type": "markdown",
      "source": [
        "*Your answer here*"
      ],
      "metadata": {
        "id": "tEzCCUUd4kkP"
      }
    },
    {
      "cell_type": "markdown",
      "source": [
        "## H2: Relationship between chocolate bar manufacturer and its rating"
      ],
      "metadata": {
        "id": "5QxUJEWQ5Shh"
      }
    },
    {
      "cell_type": "markdown",
      "source": [
        "### Preparing сategorical data"
      ],
      "metadata": {
        "id": "FqVxqCghNkxH"
      }
    },
    {
      "cell_type": "markdown",
      "source": [
        "There are 542 factories in the data, both large and small. Create a function that adds a new attribute according to the following condition, if the factory is in the top 150, then the name of the factory is transferred to a new column, otherwise it is changed to Other"
      ],
      "metadata": {
        "id": "DgacbTgnMYsm"
      }
    },
    {
      "cell_type": "code",
      "source": [
        "#list of top-150 manufacturer\n",
        "def manuf(x):\n",
        "  #instruction"
      ],
      "metadata": {
        "id": "AKjJ0ksyBkfn"
      },
      "execution_count": null,
      "outputs": []
    },
    {
      "cell_type": "markdown",
      "source": [
        "Apply the resulting function"
      ],
      "metadata": {
        "id": "otq9kjT6MeEf"
      }
    },
    {
      "cell_type": "code",
      "source": [],
      "metadata": {
        "id": "XXKHpecACGIZ"
      },
      "execution_count": null,
      "outputs": []
    },
    {
      "cell_type": "markdown",
      "source": [
        "### Exploring the relationship"
      ],
      "metadata": {
        "id": "vIRmrWn0N9W0"
      }
    },
    {
      "cell_type": "markdown",
      "source": [
        "Calculate the average rating of chocolate for different factories (according to the new column)"
      ],
      "metadata": {
        "id": "Ty4XOg6MK-IA"
      }
    },
    {
      "cell_type": "code",
      "source": [],
      "metadata": {
        "id": "iyWhNn-FODGN"
      },
      "execution_count": null,
      "outputs": []
    },
    {
      "cell_type": "markdown",
      "source": [
        "Visualize Grouping:"
      ],
      "metadata": {
        "id": "vDL4l6ToOWU9"
      }
    },
    {
      "cell_type": "code",
      "source": [],
      "metadata": {
        "id": "AvJEc5ct7Boq"
      },
      "execution_count": null,
      "outputs": []
    }
  ]
}